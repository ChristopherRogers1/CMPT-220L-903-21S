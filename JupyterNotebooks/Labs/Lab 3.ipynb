{
 "cells": [
  {
   "cell_type": "markdown",
   "metadata": {},
   "source": [
    "# Lab Three\n",
    "---\n",
    "\n",
    "For this lab we're going to be making and using a bunch of functions. \n",
    "\n",
    "Our Goals are:\n",
    "- Switch Case\n",
    "- Looping\n",
    "- Making our own functions\n",
    "- Combining functions\n",
    "- Structuring solutions"
   ]
  },
  {
   "cell_type": "code",
   "execution_count": 1,
   "metadata": {},
   "outputs": [
    {
     "name": "stdout",
     "output_type": "stream",
     "text": [
      "I love apples\n",
      "I don't love bananas\n"
     ]
    }
   ],
   "source": [
    "// Give me an example of you using switch case.\r\n",
    "\r\n",
    "String word = \"apple\";\r\n",
    "\r\n",
    "switch(word)\r\n",
    "{\r\n",
    "    case \"apple\":\r\n",
    "        System.out.println(\"I love apples\");\r\n",
    "    case \"banana\":\r\n",
    "        System.out.println(\"I don't love bananas\");\r\n",
    "}\r\n"
   ]
  },
  {
   "cell_type": "code",
   "execution_count": 4,
   "metadata": {},
   "outputs": [
    {
     "name": "stdout",
     "output_type": "stream",
     "text": [
      "1\n",
      "2\n",
      "3\n",
      "4\n",
      "5\n"
     ]
    }
   ],
   "source": [
    "// Give me an example of you using a for loop\r\n",
    "\r\n",
    "for (int x = 0; x < 5; x++)\r\n",
    "{\r\n",
    "    System.out.println(x+1);\r\n",
    "}"
   ]
  },
  {
   "cell_type": "code",
   "execution_count": 9,
   "metadata": {},
   "outputs": [
    {
     "name": "stdout",
     "output_type": "stream",
     "text": [
      "1\n",
      "2\n",
      "4\n",
      "5\n",
      "3\n",
      "10\n"
     ]
    }
   ],
   "source": [
    "// Give me an example of you using a for each loop\r\n",
    "\r\n",
    "int[] letterList = {1, 2, 4, 5, 3, 10};\r\n",
    "\r\n",
    "for (int letter: letterList)\r\n",
    "{\r\n",
    "    System.out.println(letter);\r\n",
    "}"
   ]
  },
  {
   "cell_type": "code",
   "execution_count": 10,
   "metadata": {},
   "outputs": [
    {
     "name": "stdout",
     "output_type": "stream",
     "text": [
      "10\n",
      "9\n",
      "8\n",
      "7\n",
      "6\n",
      "5\n",
      "4\n",
      "3\n",
      "2\n",
      "1\n"
     ]
    }
   ],
   "source": [
    "// Give me an example of you using a while loop\r\n",
    "\r\n",
    "int x=10;\r\n",
    "while (x >= 1)\r\n",
    "{\r\n",
    "    System.out.println(x);\r\n",
    "    x-=1;\r\n",
    "}"
   ]
  },
  {
   "cell_type": "code",
   "execution_count": 20,
   "metadata": {},
   "outputs": [
    {
     "name": "stdout",
     "output_type": "stream",
     "text": [
      "8.0\n"
     ]
    }
   ],
   "source": [
    "// I want you to write a function that will take in a number and raise it to the power given. \r\n",
    "\r\n",
    "// For example if given the numbers 2 and 3. The math that the function should do is 2^3 and should print out or return 8. Print the output.\r\n",
    "\r\n",
    "import java.lang.Math;\r\n",
    "\r\n",
    "double toThePower (double x, double y)\r\n",
    "{\r\n",
    "    return Math.pow(x, y);\r\n",
    "}\r\n",
    "\r\n",
    "System.out.println(toThePower(2.0, 3.0));"
   ]
  },
  {
   "cell_type": "code",
   "execution_count": 46,
   "metadata": {},
   "outputs": [
    {
     "name": "stdout",
     "output_type": "stream",
     "text": [
      "3\n"
     ]
    }
   ],
   "source": [
    "// I want you to write a function that will take in a list and see how many times a given number is in the list. \r\n",
    "\r\n",
    "// For example if the array given is [2,3,5,2,3,6,7,8,2] and the number given is 2 the function should print out or return 3. Print the output.\r\n",
    "\r\n",
    "int[] letterList = {1, 2, 4, 5, 2, 2};\r\n",
    "\r\n",
    "int listChecker (int[] insertList, int checkFor)\r\n",
    "{\r\n",
    "    int count = 0;\r\n",
    "    for (int x: insertList)\r\n",
    "    {\r\n",
    "        if (insertList[x]==checkFor)\r\n",
    "            count++;\r\n",
    "    }\r\n",
    "    return count;\r\n",
    "}\r\n",
    "\r\n",
    "System.out.println(listChecker(letterList, 2));"
   ]
  },
  {
   "cell_type": "code",
   "execution_count": 49,
   "metadata": {},
   "outputs": [
    {
     "name": "stdout",
     "output_type": "stream",
     "text": [
      "4.242640687119285\n"
     ]
    }
   ],
   "source": [
    "// Give me a function that gives the answer to the pythagorean theorem. \r\n",
    "// I'd like you to reuse the exponent function from above as well as the functions below to make your function.\r\n",
    "\r\n",
    "// If you don't remember the pythagorean theorem the formula is (a^2 + b^2 = c^2). Given a and b as parameters i'd like you to return c. \r\n",
    "// If this doesn't make sense look up `Pythagorean Theorem Formula` on google.\r\n",
    "\r\n",
    "import java.lang.Math;\r\n",
    "\r\n",
    "double addition(double a, double b) {\r\n",
    "    double answer = a + b;\r\n",
    "    return answer;\r\n",
    "}\r\n",
    "\r\n",
    "double division(double a, double b) {\r\n",
    "    double answer = a / b;\r\n",
    "    return answer;\r\n",
    "}\r\n",
    "\r\n",
    "double toThePower (double x, double y)\r\n",
    "{\r\n",
    "    return Math.pow(x, y);\r\n",
    "}\r\n",
    "\r\n",
    "double PythagoreanTheorem (double a, double b)\r\n",
    "{\r\n",
    "    double x = toThePower(a, 2);\r\n",
    "    double y = toThePower(b, 2);\r\n",
    "    \r\n",
    "    double z = (addition(x,y));\r\n",
    "    return (Math.sqrt(z));\r\n",
    "}\r\n",
    "\r\n",
    "System.out.println(PythagoreanTheorem(3, 3));\r\n",
    "\r\n",
    "\r\n",
    "\r\n"
   ]
  }
 ],
 "metadata": {
  "kernelspec": {
   "display_name": "Java",
   "language": "java",
   "name": "java"
  },
  "language_info": {
   "codemirror_mode": "java",
   "file_extension": ".jshell",
   "mimetype": "text/x-java-source",
   "name": "Java",
   "pygments_lexer": "java",
   "version": "15.0.2+7-27"
  },
  "orig_nbformat": 2
 },
 "nbformat": 4,
 "nbformat_minor": 2
}