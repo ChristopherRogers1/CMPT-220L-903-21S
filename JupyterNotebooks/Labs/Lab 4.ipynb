{
 "cells": [
  {
   "cell_type": "markdown",
   "metadata": {},
   "source": [
    "# Lab Four\n",
    "---\n",
    "\n",
    "For this lab we're going to be messing around with Markdown!\n",
    "\n",
    "Our Goals are:\n",
    "- Using Markdown!\n",
    "\n",
    "I want you to describe to me your process of converting the assignment and making it DRY. \n",
    "\n",
    "Please show the ability to:\n",
    "- Make a header\n",
    "- Make a list (ordered or unordered)\n",
    "- Link the Markdown Guide from the lesson. \n",
    "- Artuculate your thought process."
   ]
  },
  {
   "cell_type": "raw",
   "metadata": {},
   "source": [
    "I'm not sure where to leave this, so I'll include it here. For this assignment, I made three arrays, one for lemonades bought in one purchased, one for \r\n",
    "pretzels, and one for tips. I then made two different for loops, which read through the arrays and add to the total money, as well as subtracting from the \r\n",
    "total inventory. The tips are different, and just add all of the numbers together. Once everything is either added or subtracted to the totals, it prints\r\n",
    "out all four totals, being remaining inventory, tips, and total cash. "
   ]
  }
 ],
 "metadata": {
  "kernelspec": {
   "display_name": "Java",
   "language": "java",
   "name": "java"
  },
  "language_info": {
   "codemirror_mode": {
    "name": "ipython",
    "version": 3
   },
   "file_extension": ".py",
   "mimetype": "text/x-python",
   "name": "python",
   "nbconvert_exporter": "python",
   "pygments_lexer": "ipython3",
   "version": 3
  },
  "orig_nbformat": 2
 },
 "nbformat": 4,
 "nbformat_minor": 2
}