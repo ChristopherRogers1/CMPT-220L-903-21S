{
 "cells": [
  {
   "cell_type": "markdown",
   "metadata": {},
   "source": [
    "# Lab Two\n",
    "---\n",
    "\n",
    "Ok for this lab we're going to reiterate a lot of the things that we went over in class.\n",
    "\n",
    "Our Goals are:\n",
    "- Conditionals\n",
    "    - If\n",
    "    - Else\n",
    "    - Else If"
   ]
  },
  {
   "cell_type": "code",
   "execution_count": 1,
   "metadata": {},
   "outputs": [
    {
     "name": "stdout",
     "output_type": "stream",
     "text": [
      "This will print.\n"
     ]
    }
   ],
   "source": [
    "// Make an if statement\r\n",
    "\r\n",
    "if (true)\r\n",
    "    System.out.println(\"This will print.\");"
   ]
  },
  {
   "cell_type": "code",
   "execution_count": 2,
   "metadata": {},
   "outputs": [
    {
     "name": "stdout",
     "output_type": "stream",
     "text": [
      "This will always print.\n"
     ]
    }
   ],
   "source": [
    "// Make an if, else statement where the else statement triggers\r\n",
    "\r\n",
    "if (false)\r\n",
    "    System.out.println(\"This will not print ever.\");\r\n",
    "else\r\n",
    "    System.out.println(\"This will always print.\");"
   ]
  },
  {
   "cell_type": "code",
   "execution_count": 4,
   "metadata": {},
   "outputs": [
    {
     "name": "stdout",
     "output_type": "stream",
     "text": [
      "x is equal to 10\n"
     ]
    }
   ],
   "source": [
    "// Make an if, else if, else statement where the else if statement triggers\r\n",
    "\r\n",
    "int x = 10;\r\n",
    "\r\n",
    "if (x==0)\r\n",
    "    System.out.println(\"x is equal to 0\");\r\n",
    "else if (x==10)\r\n",
    "    System.out.println(\"x is equal to 10\");\r\n",
    "else\r\n",
    "    System.out.println(\"x is neither 0 or 10.\");"
   ]
  },
  {
   "cell_type": "code",
   "execution_count": 8,
   "metadata": {},
   "outputs": [
    {
     "name": "stdout",
     "output_type": "stream",
     "text": [
      "x and y are not equal.\n"
     ]
    }
   ],
   "source": [
    "// Make 2 variables and use them in an if else conditional\r\n",
    "\r\n",
    "int x = 10, y = 12;\r\n",
    "\r\n",
    "if (x == y)\r\n",
    "    System.out.println(\"x and y are equal.\");\r\n",
    "else\r\n",
    "    System.out.println(\"x and y are not equal.\");"
   ]
  },
  {
   "cell_type": "code",
   "execution_count": 9,
   "metadata": {},
   "outputs": [
    {
     "name": "stdout",
     "output_type": "stream",
     "text": [
      "x and y are not both true.\n"
     ]
    }
   ],
   "source": [
    "// Make an if statement using 2 variables and an AND(&&) statement\r\n",
    "\r\n",
    "boolean x = true, y = false;\r\n",
    "if (x && y)\r\n",
    "    System.out.println(\"x and y are both true.\");\r\n",
    "else\r\n",
    "    System.out.println(\"x and y are not both true.\");"
   ]
  },
  {
   "cell_type": "code",
   "execution_count": 12,
   "metadata": {},
   "outputs": [
    {
     "name": "stdout",
     "output_type": "stream",
     "text": [
      "One of x or y are true.\n"
     ]
    }
   ],
   "source": [
    "// Make an if statement using 2 variables and an OR(||) statement\r\n",
    "\r\n",
    "boolean x = true, y = false;\r\n",
    "if (x || y)\r\n",
    "    System.out.println(\"One of x or y are true.\");\r\n",
    "else\r\n",
    "    System.out.println(\"Neither of x or y are true.\");"
   ]
  }
 ],
 "metadata": {
  "kernelspec": {
   "display_name": "Java",
   "name": "java"
  },
  "language_info": {
   "name": "java"
  },
  "orig_nbformat": 2
 },
 "nbformat": 4,
 "nbformat_minor": 2
}