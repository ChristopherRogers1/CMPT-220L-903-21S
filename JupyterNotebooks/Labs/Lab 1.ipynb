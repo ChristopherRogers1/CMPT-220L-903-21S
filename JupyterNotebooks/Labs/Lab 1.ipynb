{
 "cells": [
  {
   "cell_type": "markdown",
   "metadata": {},
   "source": [
    "# Lab One\n",
    "---\n",
    "\n",
    "Ok for this lab we're going to reiterate a lot of the things that we went over in class.\n",
    "\n",
    "Our Goals are:\n",
    "- Binary Math\n",
    "- Defining Variables\n",
    "    - Primitive Types\n",
    "    - Reference Types\n",
    "- Using Math\n",
    "- Manipulating Variables"
   ]
  },
  {
   "cell_type": "markdown",
   "metadata": {},
   "source": [
    "For this section I just want you to type the answer. I know that you can just look this up but try and do the math. \n",
    "### What is 1000 in Decimal\n",
    "\n",
    "### What is 1000 1001 in Decimal (This is a byte. It's just split for readability)\n",
    "\n",
    "### What is 1010 1111 in Decimal (This is a byte. It's just split for readability)\n",
    "\n",
    "### What is 0101 1010 in Decimal (This is a byte. It's just split for readability)"
   ]
  },
  {
   "cell_type": "code",
   "execution_count": 1,
   "metadata": {},
   "outputs": [
    {
     "name": "stdout",
     "output_type": "stream",
     "text": [
      "true\n",
      "1\n",
      "2\n",
      "3\n",
      "4\n",
      "5.0\n",
      "6.2\n",
      "a\n"
     ]
    }
   ],
   "source": [
    "// Define 8 variables, one of each type listed: [boolean, byte, short, int, long, float, double, char]. Print all 8 of them.\r\n",
    "\r\n",
    "boolean bool = true;\r\n",
    "byte a = 1;\r\n",
    "short b = 2;\r\n",
    "int c = 3;\r\n",
    "long d = 4;\r\n",
    "float e = 5;\r\n",
    "double f = 6.2;\r\n",
    "char letter = 'a';\r\n",
    "\r\n",
    "System.out.println(bool);\r\n",
    "System.out.println(a);\r\n",
    "System.out.println(b);\r\n",
    "System.out.println(c);\r\n",
    "System.out.println(d);\r\n",
    "System.out.println(e);\r\n",
    "System.out.println(f);\r\n",
    "System.out.println(letter);"
   ]
  },
  {
   "cell_type": "code",
   "execution_count": 2,
   "metadata": {},
   "outputs": [
    {
     "name": "stdout",
     "output_type": "stream",
     "text": [
      "Is\n"
     ]
    }
   ],
   "source": [
    "// Make me a list of any type\r\n",
    "\r\n",
    "String[] wordlist = {\"This\", \"Is\", \"A\", \"List\"};\r\n",
    "\r\n",
    "System.out.println(wordlist[1]);"
   ]
  },
  {
   "cell_type": "code",
   "execution_count": null,
   "metadata": {},
   "outputs": [],
   "source": [
    "// With whatever variables you'd like demonstrate the following: [Addition, Subtraction, Division, Multiplication, Modulo]. Print all 5.\r\n",
    "\r\n",
    "int x = 5, y = 3;\r\n",
    "\r\n",
    "System.out.println(x+y);\r\n",
    "System.out.println(x-y);\r\n",
    "System.out.println(x/y);\r\n",
    "System.out.println(x*y);\r\n",
    "System.out.println(x%y);"
   ]
  },
  {
   "cell_type": "code",
   "execution_count": null,
   "metadata": {},
   "outputs": [],
   "source": [
    "// Using 2 variables and addition print the number 57\r\n",
    "\r\n",
    "int x = 7, y = 50;\r\n",
    "System.out.println(x+y);"
   ]
  },
  {
   "cell_type": "code",
   "execution_count": 3,
   "metadata": {},
   "outputs": [
    {
     "name": "stdout",
     "output_type": "stream",
     "text": [
      "10\n",
      "110\n"
     ]
    }
   ],
   "source": [
    "// Define a variable and print it out. Then alter the same variable and print it out. This can be through string concatenation or addition, etc.\r\n",
    "\r\n",
    "int x = 10;\r\n",
    "\r\n",
    "System.out.println(x);\r\n",
    "\r\n",
    "x+=100;\r\n",
    "\r\n",
    "System.out.println(x);"
   ]
  }
 ],
 "metadata": {
  "kernelspec": {
   "display_name": "Java",
   "language": "java",
   "name": "java"
  },
  "language_info": {
   "codemirror_mode": {
    "name": "ipython",
    "version": 3
   },
   "file_extension": ".py",
   "mimetype": "text/x-python",
   "name": "python",
   "nbconvert_exporter": "python",
   "pygments_lexer": "ipython3",
   "version": "3.8.5-final"
  },
  "orig_nbformat": 2
 },
 "nbformat": 4,
 "nbformat_minor": 2
}