{
 "cells": [
  {
   "cell_type": "markdown",
   "metadata": {},
   "source": [
    "# Lab Five\n",
    "---\n",
    "\n",
    "For this lab we're going to be messing around with our Linear Data Types!\n",
    "\n",
    "Our Goals are:\n",
    "- Creating an Array\n",
    "- Creating an ArrayList\n",
    "- Creating an LinkedList\n",
    "- Creating an Queue\n",
    "- Creating an Stack \n",
    "\n",
    "Please show the ability to:\n",
    "- Create these data types\n",
    "- Populate the data types\n",
    "- Print out the Linear Data Types"
   ]
  },
  {
   "cell_type": "code",
   "execution_count": 15,
   "metadata": {},
   "outputs": [
    {
     "name": "stdout",
     "output_type": "stream",
     "text": [
      "1\n",
      "3\n",
      "5\n",
      "0\n"
     ]
    }
   ],
   "source": [
    "// Create an Array, Populate it, and Print it out\r\n",
    "\r\n",
    "int numArray[] = {1, 3, 2, 0};\r\n",
    "\r\n",
    "numArray[2] = 5;\r\n",
    "\r\n",
    "for (int x = 0; x < 4; x++)\r\n",
    "    System.out.println(numArray[x]);"
   ]
  },
  {
   "cell_type": "code",
   "execution_count": 22,
   "metadata": {},
   "outputs": [
    {
     "name": "stdout",
     "output_type": "stream",
     "text": [
      "computer\n",
      "code\n",
      "java\n",
      "technology\n"
     ]
    }
   ],
   "source": [
    "// Create an ArrayList, Populate it, and Print it out\r\n",
    "\r\n",
    "ArrayList<String> arrList = new ArrayList<String>();\r\n",
    "\r\n",
    "arrList.add(\"computer\");\r\n",
    "arrList.add(\"code\");\r\n",
    "arrList.add(\"java\");\r\n",
    "arrList.add(\"technology\");\r\n",
    "\r\n",
    "for (int x = 0; x < 4; x++)\r\n",
    "    System.out.println(arrList.get(x));"
   ]
  },
  {
   "cell_type": "code",
   "execution_count": 23,
   "metadata": {},
   "outputs": [
    {
     "name": "stdout",
     "output_type": "stream",
     "text": [
      "hamburger\n",
      "hot dog\n",
      "fries\n",
      "soda\n"
     ]
    }
   ],
   "source": [
    "// Create an LinkedList, Populate it, and Print it out\r\n",
    "\r\n",
    "LinkedList<String> linked = new LinkedList<String>();\r\n",
    "\r\n",
    "linked.add(\"hamburger\");\r\n",
    "linked.add(\"hot dog\");\r\n",
    "linked.add(\"fries\");\r\n",
    "linked.add(\"soda\");\r\n",
    "\r\n",
    "for (int x = 0; x < 4; x++)\r\n",
    "    System.out.println(linked.get(x));"
   ]
  },
  {
   "cell_type": "code",
   "execution_count": 34,
   "metadata": {},
   "outputs": [
    {
     "name": "stdout",
     "output_type": "stream",
     "text": [
      "[apple, banana, orange, melon]\n"
     ]
    }
   ],
   "source": [
    "// Create an Queue, Populate it, and Print it out\r\n",
    "\r\n",
    "Queue<String> wordQueue = new LinkedList<>();\r\n",
    "\r\n",
    "wordQueue.add(\"apple\");\r\n",
    "wordQueue.add(\"banana\");\r\n",
    "wordQueue.add(\"orange\");\r\n",
    "wordQueue.add(\"melon\");\r\n",
    "\r\n",
    "System.out.println(wordQueue);"
   ]
  },
  {
   "cell_type": "code",
   "execution_count": 36,
   "metadata": {},
   "outputs": [
    {
     "name": "stdout",
     "output_type": "stream",
     "text": [
      "[first, middle, last]\n"
     ]
    }
   ],
   "source": [
    "// Create an Stack, Populate it, and Print it out\r\n",
    "\r\n",
    "Stack<String> wordStack = new Stack<>();\r\n",
    "\r\n",
    "wordStack.push(\"first\");\r\n",
    "wordStack.push(\"middle\");\r\n",
    "wordStack.push(\"last\");\r\n",
    "\r\n",
    "System.out.println(wordStack);"
   ]
  }
 ],
 "metadata": {
  "kernelspec": {
   "display_name": "Java",
   "name": "java"
  },
  "language_info": {
   "name": "java"
  },
  "orig_nbformat": 2
 },
 "nbformat": 4,
 "nbformat_minor": 2
}